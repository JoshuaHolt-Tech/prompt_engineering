{
 "cells": [
  {
   "cell_type": "code",
   "execution_count": 1,
   "id": "1c939b95-337d-4ac1-8b56-1cfb553eecf9",
   "metadata": {},
   "outputs": [],
   "source": [
    "import openai\n",
    "import os"
   ]
  },
  {
   "cell_type": "code",
   "execution_count": 2,
   "id": "10cc26fa-ed82-4746-a688-027d1a3dec6d",
   "metadata": {},
   "outputs": [],
   "source": [
    "from env import api_key, org_id"
   ]
  },
  {
   "cell_type": "code",
   "execution_count": 3,
   "id": "a966415b-157f-482e-b32b-d4c124ba532d",
   "metadata": {},
   "outputs": [],
   "source": [
    "openai.api_key = api_key\n",
    "openai.organization = org_id"
   ]
  },
  {
   "cell_type": "markdown",
   "id": "d73d6fd4-cd6a-4bd8-8a29-18092ba111b8",
   "metadata": {},
   "source": [
    "def get_completion(prompt, model=\"ada\"):\n",
    "    messages = [{\"role\": \"user\", \"content\": prompt}]\n",
    "    response = openai.ChatCompletion.create(\n",
    "        model=model,\n",
    "        messages=messages,\n",
    "        temperature=0, #randomness\n",
    "    )\n",
    "    return response.choices[0].message[\"content\"]"
   ]
  },
  {
   "cell_type": "code",
   "execution_count": 4,
   "id": "d9eaad0b-dddc-4a76-94b1-aed65e7b0ebc",
   "metadata": {},
   "outputs": [],
   "source": [
    "def get_completion(prompt, model=\"ada\"):\n",
    "    #messages = [{\"role\": \"user\", \"content\": prompt}]\n",
    "    response = openai.Completion.create(\n",
    "        engine=model,\n",
    "        #messages=messages,\n",
    "        max_tokens=50,  # Adjust the desired length of the completion\n",
    "        temperature=0.8,  # Adjust the randomness of the completion\n",
    "        n=1,  # Set the number of completions to generate\n",
    "        stop=None,  # Define a stop sequence to finish the completion\n",
    "    )\n",
    "    return response.choices[0].text.strip()"
   ]
  },
  {
   "cell_type": "code",
   "execution_count": 5,
   "id": "f38dffd5-a4b1-46d1-a2d9-995775ef2a88",
   "metadata": {},
   "outputs": [],
   "source": [
    "prompt = f\"\"\"\n",
    "This is my first test of the API. Please respond with a '001' if you get this.\n",
    "\"\"\""
   ]
  },
  {
   "cell_type": "code",
   "execution_count": 6,
   "id": "db886340-ce27-404e-9152-92494dc6b80e",
   "metadata": {},
   "outputs": [
    {
     "name": "stdout",
     "output_type": "stream",
     "text": [
      "Date: Sun, 15 Jan 2019 16:40:49 +0100\n",
      "\n",
      "Subject: News and E-Commerce\n",
      "\n",
      "And on that note: I have just had to look at the site \"In the News\". Apparently they have been working on\n"
     ]
    }
   ],
   "source": [
    "response = get_completion(prompt)\n",
    "print(response)"
   ]
  },
  {
   "cell_type": "code",
   "execution_count": null,
   "id": "53b34d6e-b85f-4d12-8237-5536fee2e511",
   "metadata": {},
   "outputs": [],
   "source": []
  }
 ],
 "metadata": {
  "kernelspec": {
   "display_name": "Python 3 (ipykernel)",
   "language": "python",
   "name": "python3"
  },
  "language_info": {
   "codemirror_mode": {
    "name": "ipython",
    "version": 3
   },
   "file_extension": ".py",
   "mimetype": "text/x-python",
   "name": "python",
   "nbconvert_exporter": "python",
   "pygments_lexer": "ipython3",
   "version": "3.8.16"
  }
 },
 "nbformat": 4,
 "nbformat_minor": 5
}
