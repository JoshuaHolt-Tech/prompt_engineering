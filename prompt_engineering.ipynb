{
 "cells": [
  {
   "cell_type": "code",
   "execution_count": 1,
   "id": "1c939b95-337d-4ac1-8b56-1cfb553eecf9",
   "metadata": {},
   "outputs": [],
   "source": [
    "import openai\n",
    "import os"
   ]
  },
  {
   "cell_type": "code",
   "execution_count": 2,
   "id": "10cc26fa-ed82-4746-a688-027d1a3dec6d",
   "metadata": {},
   "outputs": [],
   "source": [
    "from env import api_key, org_id"
   ]
  },
  {
   "cell_type": "code",
   "execution_count": 3,
   "id": "a966415b-157f-482e-b32b-d4c124ba532d",
   "metadata": {},
   "outputs": [],
   "source": [
    "openai.api_key = api_key\n",
    "openai.organization = org_id"
   ]
  },
  {
   "cell_type": "code",
   "execution_count": 4,
   "id": "b8827dae-54a4-486d-9e9e-ca7a1623abeb",
   "metadata": {},
   "outputs": [],
   "source": [
    "models = openai.Model.list()"
   ]
  },
  {
   "cell_type": "code",
   "execution_count": 5,
   "id": "b9e789b4-b508-44e8-bd74-d6175b3bcf2d",
   "metadata": {
    "tags": []
   },
   "outputs": [],
   "source": [
    "#models.data"
   ]
  },
  {
   "cell_type": "code",
   "execution_count": 6,
   "id": "ae90462f-f140-407c-ace4-7f2d3752f880",
   "metadata": {},
   "outputs": [],
   "source": [
    "list_of_models = []\n",
    "for model in models.data:\n",
    "    list_of_models.append({\"Model ID\":model.id})  "
   ]
  },
  {
   "cell_type": "code",
   "execution_count": 7,
   "id": "440b7a18-1bd2-4e5c-9b3a-28bcba55d0d2",
   "metadata": {},
   "outputs": [
    {
     "data": {
      "text/plain": [
       "[{'Model ID': 'whisper-1'},\n",
       " {'Model ID': 'babbage'},\n",
       " {'Model ID': 'davinci'},\n",
       " {'Model ID': 'text-davinci-edit-001'},\n",
       " {'Model ID': 'babbage-code-search-code'},\n",
       " {'Model ID': 'text-similarity-babbage-001'},\n",
       " {'Model ID': 'text-embedding-ada-002'},\n",
       " {'Model ID': 'code-davinci-edit-001'},\n",
       " {'Model ID': 'text-davinci-001'},\n",
       " {'Model ID': 'ada'},\n",
       " {'Model ID': 'babbage-code-search-text'},\n",
       " {'Model ID': 'babbage-similarity'},\n",
       " {'Model ID': 'code-search-babbage-text-001'},\n",
       " {'Model ID': 'text-curie-001'},\n",
       " {'Model ID': 'code-search-babbage-code-001'},\n",
       " {'Model ID': 'text-ada-001'},\n",
       " {'Model ID': 'text-similarity-ada-001'},\n",
       " {'Model ID': 'curie-instruct-beta'},\n",
       " {'Model ID': 'ada-code-search-code'},\n",
       " {'Model ID': 'ada-similarity'},\n",
       " {'Model ID': 'code-search-ada-text-001'},\n",
       " {'Model ID': 'text-search-ada-query-001'},\n",
       " {'Model ID': 'davinci-search-document'},\n",
       " {'Model ID': 'ada-code-search-text'},\n",
       " {'Model ID': 'text-search-ada-doc-001'},\n",
       " {'Model ID': 'davinci-instruct-beta'},\n",
       " {'Model ID': 'text-similarity-curie-001'},\n",
       " {'Model ID': 'code-search-ada-code-001'},\n",
       " {'Model ID': 'ada-search-query'},\n",
       " {'Model ID': 'text-search-davinci-query-001'},\n",
       " {'Model ID': 'curie-search-query'},\n",
       " {'Model ID': 'davinci-search-query'},\n",
       " {'Model ID': 'babbage-search-document'},\n",
       " {'Model ID': 'ada-search-document'},\n",
       " {'Model ID': 'text-search-curie-query-001'},\n",
       " {'Model ID': 'text-search-babbage-doc-001'},\n",
       " {'Model ID': 'curie-search-document'},\n",
       " {'Model ID': 'text-search-curie-doc-001'},\n",
       " {'Model ID': 'babbage-search-query'},\n",
       " {'Model ID': 'text-babbage-001'},\n",
       " {'Model ID': 'text-search-davinci-doc-001'},\n",
       " {'Model ID': 'text-search-babbage-query-001'},\n",
       " {'Model ID': 'curie-similarity'},\n",
       " {'Model ID': 'gpt-3.5-turbo-0613'},\n",
       " {'Model ID': 'curie'},\n",
       " {'Model ID': 'gpt-3.5-turbo-16k-0613'},\n",
       " {'Model ID': 'text-similarity-davinci-001'},\n",
       " {'Model ID': 'text-davinci-002'},\n",
       " {'Model ID': 'gpt-3.5-turbo-0301'},\n",
       " {'Model ID': 'text-davinci-003'},\n",
       " {'Model ID': 'davinci-similarity'},\n",
       " {'Model ID': 'gpt-3.5-turbo'},\n",
       " {'Model ID': 'gpt-3.5-turbo-16k'}]"
      ]
     },
     "execution_count": 7,
     "metadata": {},
     "output_type": "execute_result"
    }
   ],
   "source": [
    "list_of_models"
   ]
  },
  {
   "cell_type": "code",
   "execution_count": 12,
   "id": "cbd13d3e-4126-49a0-9678-4238d6b0d99b",
   "metadata": {},
   "outputs": [],
   "source": [
    "# Define a function for interacting with ChatGPT\n",
    "def ask_chatbot(question, chat_history=None):\n",
    "    if chat_history is None:\n",
    "        chat_history = []\n",
    "\n",
    "    # Format the input for the API call\n",
    "    input_text = '\\n'.join(chat_history + [f'User: {question}'])\n",
    "\n",
    "    # Call the OpenAI API to generate a response\n",
    "    response = openai.Completion.create(\n",
    "        engine='text-davinci-003',\n",
    "        prompt=input_text,\n",
    "        max_tokens=100,\n",
    "        temperature=0.7,\n",
    "        n=1,\n",
    "        stop=None\n",
    "    )\n",
    "\n",
    "    # Extract the generated response from the API response\n",
    "    answer = response.choices[0].text.strip()\n",
    "\n",
    "    # Append the user's question and the chatbot's answer to the chat history\n",
    "    chat_history.append(f'User: {question}')\n",
    "    chat_history.append(f'Chatbot: {answer}')\n",
    "\n",
    "    return answer"
   ]
  },
  {
   "cell_type": "code",
   "execution_count": 16,
   "id": "9723d0e4-6fd5-43ec-96e0-928e6bf54a04",
   "metadata": {},
   "outputs": [],
   "source": [
    "chat_history = []"
   ]
  },
  {
   "cell_type": "code",
   "execution_count": 17,
   "id": "8c53e856-56cc-4f02-8c82-da99f91b674b",
   "metadata": {},
   "outputs": [],
   "source": [
    "user_question = \"What is the most advanced model available on the OpenAI API for helping with Python and C++ coding? This would include being an instructor as well as generating functioning code.\""
   ]
  },
  {
   "cell_type": "code",
   "execution_count": 18,
   "id": "69099d4b-0f4b-468b-a603-06236e050b5c",
   "metadata": {},
   "outputs": [],
   "source": [
    "response = ask_chatbot(user_question, chat_history)"
   ]
  },
  {
   "cell_type": "code",
   "execution_count": 19,
   "id": "ebd46264-67b8-408d-8821-0677619b9248",
   "metadata": {},
   "outputs": [
    {
     "name": "stdout",
     "output_type": "stream",
     "text": [
      "OpenAI does not offer an API to help with coding in Python or C++. OpenAI is focused on developing artificial intelligence technology to aid in research and development.\n"
     ]
    }
   ],
   "source": [
    "print(response)"
   ]
  },
  {
   "cell_type": "code",
   "execution_count": null,
   "id": "fcb8dfbd-66ec-456a-aa93-72c607485856",
   "metadata": {},
   "outputs": [],
   "source": []
  }
 ],
 "metadata": {
  "kernelspec": {
   "display_name": "Python 3 (ipykernel)",
   "language": "python",
   "name": "python3"
  },
  "language_info": {
   "codemirror_mode": {
    "name": "ipython",
    "version": 3
   },
   "file_extension": ".py",
   "mimetype": "text/x-python",
   "name": "python",
   "nbconvert_exporter": "python",
   "pygments_lexer": "ipython3",
   "version": "3.10.9"
  }
 },
 "nbformat": 4,
 "nbformat_minor": 5
}
