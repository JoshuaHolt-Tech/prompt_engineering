{
 "cells": [
  {
   "cell_type": "code",
   "execution_count": 1,
   "id": "1c939b95-337d-4ac1-8b56-1cfb553eecf9",
   "metadata": {},
   "outputs": [],
   "source": [
    "import openai\n",
    "import os"
   ]
  },
  {
   "cell_type": "code",
   "execution_count": 2,
   "id": "10cc26fa-ed82-4746-a688-027d1a3dec6d",
   "metadata": {},
   "outputs": [],
   "source": [
    "from env import api_key, org_id"
   ]
  },
  {
   "cell_type": "code",
   "execution_count": 3,
   "id": "a966415b-157f-482e-b32b-d4c124ba532d",
   "metadata": {},
   "outputs": [],
   "source": [
    "openai.api_key = api_key\n",
    "openai.organization = org_id"
   ]
  },
  {
   "cell_type": "code",
   "execution_count": 5,
   "id": "467505b0-7c3a-40f7-bf26-53fbccb74e2c",
   "metadata": {},
   "outputs": [],
   "source": [
    "def get_completion(prompt, model=\"ada\"):\n",
    "    messages = [{\"role\": \"user\", \"content\": prompt}]\n",
    "    response = openai.ChatCompletion.create(\n",
    "        model=model,\n",
    "        messages=messages,\n",
    "        temperature=0, #randomness\n",
    "    )\n",
    "    return response.choices[0].message[\"content\"]"
   ]
  },
  {
   "cell_type": "code",
   "execution_count": null,
   "id": "f38dffd5-a4b1-46d1-a2d9-995775ef2a88",
   "metadata": {},
   "outputs": [],
   "source": []
  }
 ],
 "metadata": {
  "kernelspec": {
   "display_name": "Python 3 (ipykernel)",
   "language": "python",
   "name": "python3"
  },
  "language_info": {
   "codemirror_mode": {
    "name": "ipython",
    "version": 3
   },
   "file_extension": ".py",
   "mimetype": "text/x-python",
   "name": "python",
   "nbconvert_exporter": "python",
   "pygments_lexer": "ipython3",
   "version": "3.10.9"
  }
 },
 "nbformat": 4,
 "nbformat_minor": 5
}
