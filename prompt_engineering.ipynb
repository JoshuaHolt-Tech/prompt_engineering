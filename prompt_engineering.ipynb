{
 "cells": [
  {
   "cell_type": "code",
   "execution_count": 1,
   "id": "1c939b95-337d-4ac1-8b56-1cfb553eecf9",
   "metadata": {},
   "outputs": [],
   "source": [
    "import openai\n",
    "import os"
   ]
  },
  {
   "cell_type": "code",
   "execution_count": 2,
   "id": "10cc26fa-ed82-4746-a688-027d1a3dec6d",
   "metadata": {},
   "outputs": [],
   "source": [
    "from env import api_key, org_id"
   ]
  },
  {
   "cell_type": "code",
   "execution_count": 3,
   "id": "a966415b-157f-482e-b32b-d4c124ba532d",
   "metadata": {},
   "outputs": [],
   "source": [
    "openai.api_key = api_key\n",
    "openai.organization = org_id"
   ]
  },
  {
   "cell_type": "markdown",
   "id": "d73d6fd4-cd6a-4bd8-8a29-18092ba111b8",
   "metadata": {},
   "source": [
    "def get_completion(prompt, model=\"ada\"):\n",
    "    messages = [{\"role\": \"user\", \"content\": prompt}]\n",
    "    response = openai.ChatCompletion.create(\n",
    "        model=model,\n",
    "        messages=messages,\n",
    "        temperature=0, #randomness\n",
    "    )\n",
    "    return response.choices[0].message[\"content\"]"
   ]
  },
  {
   "cell_type": "code",
   "execution_count": 4,
   "id": "d9eaad0b-dddc-4a76-94b1-aed65e7b0ebc",
   "metadata": {},
   "outputs": [],
   "source": [
    "def get_completion(prompt, model=\"text-davinci-003\"):\n",
    "    #messages = [{\"role\": \"user\", \"content\": prompt}]\n",
    "    response = openai.Completion.create(\n",
    "        model=model,\n",
    "        #messages=messages,\n",
    "        max_tokens=256,  # Adjust the desired length of the completion\n",
    "        temperature=0.7,  # Adjust the randomness of the completion\n",
    "        n=1,  # Set the number of completions to generate\n",
    "        #stop=None,  # Define a stop sequence to finish the completion\n",
    "    )\n",
    "    return response.choices[0].text.strip()"
   ]
  },
  {
   "cell_type": "code",
   "execution_count": 5,
   "id": "f38dffd5-a4b1-46d1-a2d9-995775ef2a88",
   "metadata": {},
   "outputs": [],
   "source": [
    "prompt = f\"\"\"\n",
    "Summarize this for a second-grade student:\n",
    "\n",
    "Jupiter is the fifth planet from the Sun and the largest in the Solar System. It is a gas giant with a mass one-thousandth that of the Sun, but two-and-a-half times that of all the other planets in the Solar System combined. Jupiter is one of the brightest objects visible to the naked eye in the night sky, and has been known to ancient civilizations since before recorded history. It is named after the Roman god Jupiter.[19] When viewed from Earth, Jupiter can be bright enough for its reflected light to cast visible shadows,[20] and is on average the third-brightest natural object in the night sky after the Moon and Venus.\n",
    "\"\"\""
   ]
  },
  {
   "cell_type": "code",
   "execution_count": 6,
   "id": "db886340-ce27-404e-9152-92494dc6b80e",
   "metadata": {},
   "outputs": [
    {
     "name": "stdout",
     "output_type": "stream",
     "text": [
      "/*\n",
      " * Copyright (c) 2012, 2018, Oracle and/or its affiliates. All rights reserved.\n",
      " * DO NOT ALTER OR REMOVE COPYRIGHT NOTICES OR THIS FILE HEADER.\n",
      " *\n",
      " * The Universal Permissive License (UPL), Version 1.0\n",
      " *\n",
      " * Subject to the condition set forth below, permission is hereby granted to any\n",
      " * person obtaining a copy of this software, associated documentation and/or\n",
      " * data (collectively the \"Software\"), free of charge and under any and all\n",
      " * copyright rights in the Software, and any and all patent rights owned or\n",
      " * freely licensable by each licensor hereunder covering either (i) the\n",
      " * unmodified Software as contributed to or provided by such licensor, or (ii)\n",
      " * the Larger Works (as defined below), to deal in both\n",
      " *\n",
      " * (a) the Software, and\n",
      " *\n",
      " * (b) any piece of software and/or hardware listed in the lrgrwrks.txt file if\n",
      " * one is included with the Software each a \"Larger Work\" to which the Software\n",
      " * is contributed by such licensors),\n",
      " *\n",
      " * without restriction, including without limitation the rights\n"
     ]
    }
   ],
   "source": [
    "response = get_completion(prompt)\n",
    "print(response)"
   ]
  },
  {
   "cell_type": "code",
   "execution_count": null,
   "id": "53b34d6e-b85f-4d12-8237-5536fee2e511",
   "metadata": {},
   "outputs": [],
   "source": []
  }
 ],
 "metadata": {
  "kernelspec": {
   "display_name": "Python 3 (ipykernel)",
   "language": "python",
   "name": "python3"
  },
  "language_info": {
   "codemirror_mode": {
    "name": "ipython",
    "version": 3
   },
   "file_extension": ".py",
   "mimetype": "text/x-python",
   "name": "python",
   "nbconvert_exporter": "python",
   "pygments_lexer": "ipython3",
   "version": "3.8.16"
  }
 },
 "nbformat": 4,
 "nbformat_minor": 5
}
